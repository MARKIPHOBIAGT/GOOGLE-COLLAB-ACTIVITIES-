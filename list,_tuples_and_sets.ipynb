{
  "cells": [
    {
      "cell_type": "markdown",
      "metadata": {
        "id": "S8zNvxEKBYm8"
      },
      "source": [
        "# **Lists, Tuples, Sets and Dictionaries**"
      ]
    },
    {
      "cell_type": "markdown",
      "metadata": {
        "id": "9oeVpBDABnQV"
      },
      "source": [
        "## 1) List"
      ]
    },
    {
      "cell_type": "code",
      "execution_count": 1,
      "metadata": {
        "colab": {
          "base_uri": "https://localhost:8080/"
        },
        "id": "a5tVdzOOxY5u",
        "outputId": "7e6ac655-46c6-42ce-bc89-c0a66e27739e"
      },
      "outputs": [
        {
          "output_type": "stream",
          "name": "stdout",
          "text": [
            "['pizza', 'burger', 'rice', 'noodles']\n"
          ]
        }
      ],
      "source": [
        "#List - ordered sequence of elements, always uses [] to represent the list. Each item is seperated by ,.\n",
        "\n",
        "food = [\"pizza\",\"burger\",\"rice\", \"noodles\"]\n",
        "print(food)"
      ]
    },
    {
      "cell_type": "code",
      "execution_count": 2,
      "metadata": {
        "colab": {
          "base_uri": "https://localhost:8080/"
        },
        "id": "2u-i-fD3ylwe",
        "outputId": "b8bb43e4-f1d3-46c7-aa91-054cb52d932c"
      },
      "outputs": [
        {
          "output_type": "stream",
          "name": "stdout",
          "text": [
            "pizza\n"
          ]
        }
      ],
      "source": [
        "print(food[0])"
      ]
    },
    {
      "cell_type": "code",
      "execution_count": 3,
      "metadata": {
        "colab": {
          "base_uri": "https://localhost:8080/"
        },
        "id": "n5qoZ_8dzbdD",
        "outputId": "39292c6b-285d-4010-c22f-a57de74dab36"
      },
      "outputs": [
        {
          "output_type": "stream",
          "name": "stdout",
          "text": [
            "['pizza', 'burger', 'rice', 'noodles', 'cake']\n"
          ]
        }
      ],
      "source": [
        "# to add element in list\n",
        "food.append(\"cake\")\n",
        "print(food)"
      ]
    },
    {
      "cell_type": "code",
      "execution_count": 4,
      "metadata": {
        "colab": {
          "base_uri": "https://localhost:8080/"
        },
        "id": "opSQZhrtR_20",
        "outputId": "3d79d758-9e44-4e78-8798-1fad938500d5"
      },
      "outputs": [
        {
          "output_type": "stream",
          "name": "stdout",
          "text": [
            "['pizza', 'burger', 'rice', 'noodles', 'cake', 'sandwhich']\n"
          ]
        }
      ],
      "source": [
        "food.append(\"sandwhich\")\n",
        "print(food)"
      ]
    },
    {
      "cell_type": "code",
      "execution_count": 5,
      "metadata": {
        "colab": {
          "base_uri": "https://localhost:8080/"
        },
        "id": "vbimiUw0TW7B",
        "outputId": "382dbb27-d026-4218-9dcd-4458cabae2d6"
      },
      "outputs": [
        {
          "output_type": "stream",
          "name": "stdout",
          "text": [
            "['pizza', 'burger', 'rice', 'noodles', 'cake', 'sandwhich', 'sandwhich', 'pasta']\n"
          ]
        }
      ],
      "source": [
        "food.extend([\"sandwhich\",\"pasta\"])\n",
        "print(food)"
      ]
    },
    {
      "cell_type": "code",
      "execution_count": 6,
      "metadata": {
        "colab": {
          "base_uri": "https://localhost:8080/"
        },
        "id": "kydZXgWxTyDS",
        "outputId": "06725e35-5d25-474e-d515-aab555eb5d19"
      },
      "outputs": [
        {
          "output_type": "execute_result",
          "data": {
            "text/plain": [
              "['pizza',\n",
              " 'burger',\n",
              " 'rice',\n",
              " 'noodles',\n",
              " 'cake',\n",
              " 'sandwhich',\n",
              " 'sandwhich',\n",
              " 'pasta',\n",
              " 'sandwhich',\n",
              " 'pasta']"
            ]
          },
          "metadata": {},
          "execution_count": 6
        }
      ],
      "source": [
        "food.extend([\"sandwhich\",\"pasta\"])\n",
        "food"
      ]
    },
    {
      "cell_type": "code",
      "execution_count": 7,
      "metadata": {
        "colab": {
          "base_uri": "https://localhost:8080/"
        },
        "id": "qI5l2s3FUH1-",
        "outputId": "7b8692c0-056b-4be7-d7e7-706ce7dd34a0"
      },
      "outputs": [
        {
          "output_type": "stream",
          "name": "stdout",
          "text": [
            "['pizza', 'burger', 'rice', 'noodles', 'cake', 'sandwhich', 'sandwhich', 'pasta', 'sandwhich', 'pasta', 'pizza', 'burger', 'rice', 'noodles', 'cake', 'sandwhich', 'sandwhich', 'pasta', 'sandwhich', 'pasta']\n"
          ]
        }
      ],
      "source": [
        "print(food*2)"
      ]
    },
    {
      "cell_type": "code",
      "execution_count": 8,
      "metadata": {
        "colab": {
          "base_uri": "https://localhost:8080/"
        },
        "id": "vNtTwPcrUMjh",
        "outputId": "98cd578f-34da-41d6-8c93-af51ca23315a"
      },
      "outputs": [
        {
          "output_type": "execute_result",
          "data": {
            "text/plain": [
              "['pizza',\n",
              " 'burger',\n",
              " 'rice',\n",
              " 'noodles',\n",
              " 'cake',\n",
              " 'sandwhich',\n",
              " 'sandwhich',\n",
              " 'pasta',\n",
              " 'sandwhich',\n",
              " 'pasta']"
            ]
          },
          "metadata": {},
          "execution_count": 8
        }
      ],
      "source": [
        "food + [\"coffee\",\"tea\"]\n",
        "food"
      ]
    },
    {
      "cell_type": "code",
      "execution_count": 9,
      "metadata": {
        "colab": {
          "base_uri": "https://localhost:8080/"
        },
        "id": "XtlnOIUTUjbQ",
        "outputId": "8ff25541-f561-47f1-9aba-c2272a25b956"
      },
      "outputs": [
        {
          "output_type": "execute_result",
          "data": {
            "text/plain": [
              "['pizza',\n",
              " 'burger',\n",
              " 'rice',\n",
              " 'noodles',\n",
              " 'cake',\n",
              " 'sandwhich',\n",
              " 'sandwhich',\n",
              " 'pasta',\n",
              " 'sandwhich',\n",
              " 'pasta',\n",
              " 'coffee',\n",
              " 'tea']"
            ]
          },
          "metadata": {},
          "execution_count": 9
        }
      ],
      "source": [
        "food = food + [\"coffee\",\"tea\"]\n",
        "food"
      ]
    },
    {
      "cell_type": "code",
      "execution_count": 10,
      "metadata": {
        "colab": {
          "base_uri": "https://localhost:8080/"
        },
        "id": "Xjit92HwUtaI",
        "outputId": "8355dda4-d880-4f28-d903-8573561099bf"
      },
      "outputs": [
        {
          "output_type": "execute_result",
          "data": {
            "text/plain": [
              "['burger', 'rice']"
            ]
          },
          "metadata": {},
          "execution_count": 10
        }
      ],
      "source": [
        "food[1:3]"
      ]
    },
    {
      "cell_type": "code",
      "execution_count": 11,
      "metadata": {
        "colab": {
          "base_uri": "https://localhost:8080/"
        },
        "id": "BYoI4Ok5VJ9i",
        "outputId": "938daef4-e682-49bc-e80f-070515e9791a"
      },
      "outputs": [
        {
          "output_type": "execute_result",
          "data": {
            "text/plain": [
              "['pizza',\n",
              " 'burger',\n",
              " 'rice',\n",
              " 'Sweet',\n",
              " 'cake',\n",
              " 'sandwhich',\n",
              " 'sandwhich',\n",
              " 'pasta',\n",
              " 'sandwhich',\n",
              " 'pasta',\n",
              " 'coffee',\n",
              " 'tea']"
            ]
          },
          "metadata": {},
          "execution_count": 11
        }
      ],
      "source": [
        "food[3]= 'Sweet'\n",
        "food"
      ]
    },
    {
      "cell_type": "code",
      "execution_count": 12,
      "metadata": {
        "colab": {
          "base_uri": "https://localhost:8080/"
        },
        "id": "hFu2iN9WVZqA",
        "outputId": "cab57757-7cde-4145-d159-f26afc54831b"
      },
      "outputs": [
        {
          "output_type": "execute_result",
          "data": {
            "text/plain": [
              "4"
            ]
          },
          "metadata": {},
          "execution_count": 12
        }
      ],
      "source": [
        "food.index('cake')"
      ]
    },
    {
      "cell_type": "code",
      "execution_count": 13,
      "metadata": {
        "colab": {
          "base_uri": "https://localhost:8080/"
        },
        "id": "ScpkcjURWe0L",
        "outputId": "95b4e91b-1049-49f2-f797-615890fdaf5f"
      },
      "outputs": [
        {
          "output_type": "execute_result",
          "data": {
            "text/plain": [
              "['pizza',\n",
              " 'burger',\n",
              " 'rice',\n",
              " 'Paratha',\n",
              " 'Sweet',\n",
              " 'cake',\n",
              " 'sandwhich',\n",
              " 'sandwhich',\n",
              " 'pasta',\n",
              " 'sandwhich',\n",
              " 'pasta',\n",
              " 'coffee',\n",
              " 'tea']"
            ]
          },
          "metadata": {},
          "execution_count": 13
        }
      ],
      "source": [
        "food.insert(3,'Paratha')\n",
        "food"
      ]
    },
    {
      "cell_type": "code",
      "execution_count": 14,
      "metadata": {
        "colab": {
          "base_uri": "https://localhost:8080/"
        },
        "id": "dalogTjeW2y3",
        "outputId": "2b5b57ac-373b-4c39-fb72-c047c6678b36"
      },
      "outputs": [
        {
          "output_type": "stream",
          "name": "stdout",
          "text": [
            "None\n"
          ]
        }
      ],
      "source": [
        "drinks = food.remove('tea')\n",
        "print(drinks)"
      ]
    },
    {
      "cell_type": "code",
      "execution_count": 15,
      "metadata": {
        "colab": {
          "base_uri": "https://localhost:8080/",
          "height": 193
        },
        "id": "n4ZRLsziXeVW",
        "outputId": "f89bb0b4-d53a-4515-8382-405cca95a970"
      },
      "outputs": [
        {
          "output_type": "error",
          "ename": "ValueError",
          "evalue": "ignored",
          "traceback": [
            "\u001b[0;31m---------------------------------------------------------------------------\u001b[0m",
            "\u001b[0;31mValueError\u001b[0m                                Traceback (most recent call last)",
            "\u001b[0;32m<ipython-input-15-4615697f7867>\u001b[0m in \u001b[0;36m<cell line: 1>\u001b[0;34m()\u001b[0m\n\u001b[0;32m----> 1\u001b[0;31m \u001b[0monlyfood\u001b[0m \u001b[0;34m=\u001b[0m \u001b[0mfood\u001b[0m\u001b[0;34m.\u001b[0m\u001b[0mremove\u001b[0m\u001b[0;34m(\u001b[0m\u001b[0;34m'tea'\u001b[0m\u001b[0;34m)\u001b[0m\u001b[0;34m\u001b[0m\u001b[0;34m\u001b[0m\u001b[0m\n\u001b[0m\u001b[1;32m      2\u001b[0m \u001b[0mprint\u001b[0m\u001b[0;34m(\u001b[0m\u001b[0monlyfood\u001b[0m\u001b[0;34m)\u001b[0m\u001b[0;34m\u001b[0m\u001b[0;34m\u001b[0m\u001b[0m\n",
            "\u001b[0;31mValueError\u001b[0m: list.remove(x): x not in list"
          ]
        }
      ],
      "source": [
        "onlyfood = food.remove('tea')\n",
        "print(onlyfood)"
      ]
    },
    {
      "cell_type": "code",
      "execution_count": 17,
      "metadata": {
        "colab": {
          "base_uri": "https://localhost:8080/"
        },
        "id": "1KuY27B6YGYP",
        "outputId": "a5d209b0-e4bc-4643-9850-bbabdd17fcdf"
      },
      "outputs": [
        {
          "output_type": "stream",
          "name": "stdout",
          "text": [
            "None\n"
          ]
        }
      ],
      "source": [
        "xyz = food.remove(\"coffee\")\n",
        "print(xyz)"
      ]
    },
    {
      "cell_type": "code",
      "execution_count": 16,
      "metadata": {
        "colab": {
          "base_uri": "https://localhost:8080/"
        },
        "id": "FA2jfe00glTE",
        "outputId": "5d055130-f89f-4d05-be38-b28ecde7e952"
      },
      "outputs": [
        {
          "output_type": "stream",
          "name": "stdout",
          "text": [
            "['pizza', 'burger', 'rice', 'Paratha', 'Sweet', 'cake', 'sandwhich', 'sandwhich', 'pasta', 'sandwhich', 'pasta', 'coffee']\n"
          ]
        }
      ],
      "source": [
        "print(food)"
      ]
    },
    {
      "cell_type": "code",
      "execution_count": 18,
      "metadata": {
        "colab": {
          "base_uri": "https://localhost:8080/"
        },
        "id": "EpDMLSGeg7Nz",
        "outputId": "ed164bc6-0ff9-4434-f16c-a6a288a82208"
      },
      "outputs": [
        {
          "output_type": "stream",
          "name": "stdout",
          "text": [
            "['pizza', 'burger', 'rice', 'noodles', 'icecream', 'juice']\n"
          ]
        }
      ],
      "source": [
        "menu = ['pizza', 'burger', 'rice', 'noodles', 'icecream', 'juice']\n",
        "print(menu)"
      ]
    },
    {
      "cell_type": "code",
      "execution_count": 19,
      "metadata": {
        "colab": {
          "base_uri": "https://localhost:8080/"
        },
        "id": "ZRy6j9ewhxEk",
        "outputId": "91000340-0bdb-43c3-d6da-e370d28a83f0"
      },
      "outputs": [
        {
          "output_type": "stream",
          "name": "stdout",
          "text": [
            "initial menu ['pizza', 'burger', 'rice', 'noodles', 'icecream', 'juice']\n",
            "reversed menu ['juice', 'icecream', 'noodles', 'rice', 'burger', 'pizza']\n",
            "<class 'list_reverseiterator'>\n"
          ]
        }
      ],
      "source": [
        "print('initial menu', menu)\n",
        "menu.reverse()\n",
        "print('reversed menu', menu)\n",
        "print(type(reversed(menu)))"
      ]
    },
    {
      "cell_type": "code",
      "execution_count": 20,
      "metadata": {
        "colab": {
          "base_uri": "https://localhost:8080/"
        },
        "id": "jjB3gt2Ph_Kn",
        "outputId": "aa6efd37-f5bf-4a23-a84b-d454cbc23503"
      },
      "outputs": [
        {
          "output_type": "stream",
          "name": "stdout",
          "text": [
            "initial menu ['juice', 'icecream', 'noodles', 'rice', 'burger', 'pizza']\n",
            "sorted menu ['burger', 'icecream', 'juice', 'noodles', 'pizza', 'rice']\n"
          ]
        }
      ],
      "source": [
        "print('initial menu', menu)\n",
        "menu.sort()\n",
        "print('sorted menu',menu)"
      ]
    },
    {
      "cell_type": "code",
      "execution_count": 21,
      "metadata": {
        "colab": {
          "base_uri": "https://localhost:8080/"
        },
        "id": "KxELEkuwkItl",
        "outputId": "c23c86c5-192b-42b7-83ea-f5205cbf2a24"
      },
      "outputs": [
        {
          "output_type": "execute_result",
          "data": {
            "text/plain": [
              "['burger', 'icecream', 'juice', 'noodles', 'rice']"
            ]
          },
          "metadata": {},
          "execution_count": 21
        }
      ],
      "source": [
        "del menu[-2]\n",
        "menu"
      ]
    },
    {
      "cell_type": "code",
      "execution_count": 22,
      "metadata": {
        "colab": {
          "base_uri": "https://localhost:8080/"
        },
        "id": "hnuXnoujkhzZ",
        "outputId": "4c0da615-5398-4ed8-8663-aebc3eceb125"
      },
      "outputs": [
        {
          "output_type": "stream",
          "name": "stdout",
          "text": [
            "['juice', 'noodles']\n"
          ]
        }
      ],
      "source": [
        "print(menu[2:4])"
      ]
    },
    {
      "cell_type": "code",
      "execution_count": 23,
      "metadata": {
        "colab": {
          "base_uri": "https://localhost:8080/",
          "height": 193
        },
        "id": "9aFg5T_pknOp",
        "outputId": "e8695038-6c24-4079-fd2a-29bfe5b56e11"
      },
      "outputs": [
        {
          "output_type": "error",
          "ename": "ValueError",
          "evalue": "ignored",
          "traceback": [
            "\u001b[0;31m---------------------------------------------------------------------------\u001b[0m",
            "\u001b[0;31mValueError\u001b[0m                                Traceback (most recent call last)",
            "\u001b[0;32m<ipython-input-23-18e6613e25de>\u001b[0m in \u001b[0;36m<cell line: 1>\u001b[0;34m()\u001b[0m\n\u001b[0;32m----> 1\u001b[0;31m \u001b[0mmenu\u001b[0m\u001b[0;34m.\u001b[0m\u001b[0mremove\u001b[0m\u001b[0;34m(\u001b[0m\u001b[0;34m[\u001b[0m\u001b[0;34m'juice'\u001b[0m\u001b[0;34m,\u001b[0m\u001b[0;34m'noodles'\u001b[0m\u001b[0;34m]\u001b[0m\u001b[0;34m)\u001b[0m\u001b[0;34m\u001b[0m\u001b[0;34m\u001b[0m\u001b[0m\n\u001b[0m\u001b[1;32m      2\u001b[0m \u001b[0mprint\u001b[0m\u001b[0;34m(\u001b[0m\u001b[0mmenu\u001b[0m\u001b[0;34m)\u001b[0m\u001b[0;34m\u001b[0m\u001b[0;34m\u001b[0m\u001b[0m\n",
            "\u001b[0;31mValueError\u001b[0m: list.remove(x): x not in list"
          ]
        }
      ],
      "source": [
        "menu.remove(['juice','noodles'])\n",
        "print(menu)"
      ]
    },
    {
      "cell_type": "code",
      "execution_count": 25,
      "metadata": {
        "colab": {
          "base_uri": "https://localhost:8080/"
        },
        "id": "5798rmI-mYdx",
        "outputId": "6f6f9008-ff23-4986-8e05-3f59ccfb9e0d"
      },
      "outputs": [
        {
          "output_type": "stream",
          "name": "stdout",
          "text": [
            "['burger', 'icecream', 'noodles', 'rice']\n"
          ]
        }
      ],
      "source": [
        "print(menu)"
      ]
    },
    {
      "cell_type": "code",
      "execution_count": 24,
      "metadata": {
        "colab": {
          "base_uri": "https://localhost:8080/"
        },
        "id": "xNQnNy8JmlPo",
        "outputId": "830f7de3-7de4-42e6-d442-0edbd64a57d7"
      },
      "outputs": [
        {
          "output_type": "stream",
          "name": "stdout",
          "text": [
            "['burger', 'icecream', 'noodles', 'rice']\n"
          ]
        }
      ],
      "source": [
        "menu.remove('juice')\n",
        "print(menu)"
      ]
    },
    {
      "cell_type": "code",
      "execution_count": 26,
      "metadata": {
        "colab": {
          "base_uri": "https://localhost:8080/"
        },
        "id": "gkiyJVTRmyXI",
        "outputId": "0d7bd628-df14-45d4-8c3c-e95f22413e21"
      },
      "outputs": [
        {
          "output_type": "stream",
          "name": "stdout",
          "text": [
            "['burger', 'icecream', 'noodles', 'rice']\n"
          ]
        }
      ],
      "source": [
        "print(menu)"
      ]
    },
    {
      "cell_type": "code",
      "execution_count": 27,
      "metadata": {
        "colab": {
          "base_uri": "https://localhost:8080/",
          "height": 193
        },
        "id": "v9SBUNgeneIx",
        "outputId": "607a265e-7c93-4ac4-a179-321a35a11fe6"
      },
      "outputs": [
        {
          "output_type": "error",
          "ename": "TypeError",
          "evalue": "ignored",
          "traceback": [
            "\u001b[0;31m---------------------------------------------------------------------------\u001b[0m",
            "\u001b[0;31mTypeError\u001b[0m                                 Traceback (most recent call last)",
            "\u001b[0;32m<ipython-input-27-5c253b284250>\u001b[0m in \u001b[0;36m<cell line: 1>\u001b[0;34m()\u001b[0m\n\u001b[0;32m----> 1\u001b[0;31m \u001b[0mmenu\u001b[0m\u001b[0;34m.\u001b[0m\u001b[0mremove\u001b[0m\u001b[0;34m(\u001b[0m\u001b[0;34m'icecream'\u001b[0m\u001b[0;34m,\u001b[0m\u001b[0;34m'noodles'\u001b[0m\u001b[0;34m)\u001b[0m\u001b[0;34m\u001b[0m\u001b[0;34m\u001b[0m\u001b[0m\n\u001b[0m\u001b[1;32m      2\u001b[0m \u001b[0mprint\u001b[0m\u001b[0;34m(\u001b[0m\u001b[0mmenu\u001b[0m\u001b[0;34m)\u001b[0m\u001b[0;34m\u001b[0m\u001b[0;34m\u001b[0m\u001b[0m\n",
            "\u001b[0;31mTypeError\u001b[0m: list.remove() takes exactly one argument (2 given)"
          ]
        }
      ],
      "source": [
        "menu.remove('icecream','noodles')\n",
        "print(menu)"
      ]
    },
    {
      "cell_type": "code",
      "execution_count": 28,
      "metadata": {
        "colab": {
          "base_uri": "https://localhost:8080/"
        },
        "id": "lYX0SX7wnvK3",
        "outputId": "9c27b535-5fbf-4219-eede-abe89244b2e5"
      },
      "outputs": [
        {
          "output_type": "stream",
          "name": "stdout",
          "text": [
            "['pizza', 'burger', 'rice', 'noodles', 'icecream']\n"
          ]
        }
      ],
      "source": [
        "menu_2 = ['pizza','burger', 'rice', 'noodles','icecream']\n",
        "print(menu_2)\n"
      ]
    },
    {
      "cell_type": "code",
      "execution_count": 29,
      "metadata": {
        "colab": {
          "base_uri": "https://localhost:8080/",
          "height": 35
        },
        "id": "RQlhx1KNwAh6",
        "outputId": "efc18aaa-a770-41d7-8c54-41a791eaead0"
      },
      "outputs": [
        {
          "output_type": "execute_result",
          "data": {
            "text/plain": [
              "'icecream'"
            ],
            "application/vnd.google.colaboratory.intrinsic+json": {
              "type": "string"
            }
          },
          "metadata": {},
          "execution_count": 29
        }
      ],
      "source": [
        "menu_2.pop()"
      ]
    },
    {
      "cell_type": "code",
      "execution_count": 30,
      "metadata": {
        "colab": {
          "base_uri": "https://localhost:8080/"
        },
        "id": "gajmuEblwwM7",
        "outputId": "64089188-24ae-47b6-a595-8e69364876ee"
      },
      "outputs": [
        {
          "output_type": "stream",
          "name": "stdout",
          "text": [
            "[]\n"
          ]
        }
      ],
      "source": [
        "menu_2.clear()\n",
        "print(menu_2)"
      ]
    },
    {
      "cell_type": "markdown",
      "metadata": {
        "id": "hwky--tE0KwQ"
      },
      "source": [
        "## 2) Tuples"
      ]
    },
    {
      "cell_type": "code",
      "execution_count": 31,
      "metadata": {
        "colab": {
          "base_uri": "https://localhost:8080/"
        },
        "id": "4QLYMQPD0O45",
        "outputId": "0e939033-718a-4958-eced-4dcb38edbaf3"
      },
      "outputs": [
        {
          "output_type": "stream",
          "name": "stdout",
          "text": [
            "empty tuple ()\n"
          ]
        }
      ],
      "source": [
        "# Tuples - same as list, both contains sequence of items, mixed data types, and it contains individual elements also it is\n",
        "# immutable, it represents by ().\n",
        "\n",
        "empty = ()\n",
        "print(\"empty tuple\",empty)"
      ]
    },
    {
      "cell_type": "code",
      "execution_count": 32,
      "metadata": {
        "colab": {
          "base_uri": "https://localhost:8080/"
        },
        "id": "_AZ0An_R1mLp",
        "outputId": "ccfefce7-f146-4ca1-b21c-6702e496c707"
      },
      "outputs": [
        {
          "output_type": "stream",
          "name": "stdout",
          "text": [
            "(2, 1, 3, 4, 5)\n"
          ]
        }
      ],
      "source": [
        "# to create int tuple\n",
        "int = (2,1,3,4,5)\n",
        "print(int)"
      ]
    },
    {
      "cell_type": "code",
      "execution_count": 33,
      "metadata": {
        "colab": {
          "base_uri": "https://localhost:8080/"
        },
        "id": "RicoXPtm2Ccw",
        "outputId": "00b93237-185a-4a77-8f22-ee9c1735e04c"
      },
      "outputs": [
        {
          "output_type": "stream",
          "name": "stdout",
          "text": [
            "(4, 'Python', 4.2)\n"
          ]
        }
      ],
      "source": [
        "#mix tuple\n",
        "mix = (4,\"Python\",4.2)\n",
        "print(mix)"
      ]
    },
    {
      "cell_type": "code",
      "execution_count": 34,
      "metadata": {
        "colab": {
          "base_uri": "https://localhost:8080/"
        },
        "id": "S2X2SFXg2QBo",
        "outputId": "1151c540-2e0c-40bd-f94f-d4469525a1e4"
      },
      "outputs": [
        {
          "output_type": "stream",
          "name": "stdout",
          "text": [
            "('python', ['int', 'data', 'float'], 100)\n"
          ]
        }
      ],
      "source": [
        "# nested tuple\n",
        "nested = ('python', [\"int\",\"data\",\"float\"], 100)\n",
        "print(nested)"
      ]
    },
    {
      "cell_type": "code",
      "execution_count": 35,
      "metadata": {
        "colab": {
          "base_uri": "https://localhost:8080/"
        },
        "id": "tJw_qLOH24-X",
        "outputId": "81b847bb-989b-4fb8-9828-876a411fdb91"
      },
      "outputs": [
        {
          "output_type": "stream",
          "name": "stdout",
          "text": [
            "('Python Prog',)\n"
          ]
        }
      ],
      "source": [
        "str1 = \"Python Prog\",\n",
        "print(str1)"
      ]
    },
    {
      "cell_type": "code",
      "execution_count": 36,
      "metadata": {
        "colab": {
          "base_uri": "https://localhost:8080/"
        },
        "id": "YkSO3Vk-4ZYA",
        "outputId": "56c912cd-d1d3-44e5-9e82-c11a650fee3b"
      },
      "outputs": [
        {
          "output_type": "stream",
          "name": "stdout",
          "text": [
            "('USA', 'China', 'Philippine', 'India')\n"
          ]
        }
      ],
      "source": [
        "Country = (\"USA\", \"China\", \"Philippine\", \"India\")\n",
        "print(Country)"
      ]
    },
    {
      "cell_type": "code",
      "execution_count": 37,
      "metadata": {
        "colab": {
          "base_uri": "https://localhost:8080/",
          "height": 193
        },
        "id": "pIn4BQ155B7H",
        "outputId": "caa249cd-ac2d-4985-eaf3-46959c485d65"
      },
      "outputs": [
        {
          "output_type": "error",
          "ename": "TypeError",
          "evalue": "ignored",
          "traceback": [
            "\u001b[0;31m---------------------------------------------------------------------------\u001b[0m",
            "\u001b[0;31mTypeError\u001b[0m                                 Traceback (most recent call last)",
            "\u001b[0;32m<ipython-input-37-2522093a0d5f>\u001b[0m in \u001b[0;36m<cell line: 1>\u001b[0;34m()\u001b[0m\n\u001b[0;32m----> 1\u001b[0;31m \u001b[0mCountry\u001b[0m\u001b[0;34m[\u001b[0m\u001b[0;36m2\u001b[0m\u001b[0;34m]\u001b[0m\u001b[0;34m=\u001b[0m\u001b[0;34m\"Singapore\"\u001b[0m\u001b[0;34m\u001b[0m\u001b[0;34m\u001b[0m\u001b[0m\n\u001b[0m\u001b[1;32m      2\u001b[0m \u001b[0mprint\u001b[0m\u001b[0;34m(\u001b[0m\u001b[0mCountry\u001b[0m\u001b[0;34m)\u001b[0m\u001b[0;34m\u001b[0m\u001b[0;34m\u001b[0m\u001b[0m\n",
            "\u001b[0;31mTypeError\u001b[0m: 'tuple' object does not support item assignment"
          ]
        }
      ],
      "source": [
        "Country[2]=\"Singapore\"\n",
        "print(Country)"
      ]
    },
    {
      "cell_type": "code",
      "execution_count": 38,
      "metadata": {
        "colab": {
          "base_uri": "https://localhost:8080/",
          "height": 175
        },
        "id": "3uqgIefn5qU2",
        "outputId": "3c83f3af-ac21-4dc5-b913-1ca78f266ced"
      },
      "outputs": [
        {
          "output_type": "error",
          "ename": "TypeError",
          "evalue": "ignored",
          "traceback": [
            "\u001b[0;31m---------------------------------------------------------------------------\u001b[0m",
            "\u001b[0;31mTypeError\u001b[0m                                 Traceback (most recent call last)",
            "\u001b[0;32m<ipython-input-38-b7db5222cc8b>\u001b[0m in \u001b[0;36m<cell line: 1>\u001b[0;34m()\u001b[0m\n\u001b[0;32m----> 1\u001b[0;31m \u001b[0;32mdel\u001b[0m \u001b[0mCountry\u001b[0m\u001b[0;34m[\u001b[0m\u001b[0;36m1\u001b[0m\u001b[0;34m]\u001b[0m\u001b[0;34m\u001b[0m\u001b[0;34m\u001b[0m\u001b[0m\n\u001b[0m",
            "\u001b[0;31mTypeError\u001b[0m: 'tuple' object doesn't support item deletion"
          ]
        }
      ],
      "source": [
        "del Country[1]"
      ]
    },
    {
      "cell_type": "code",
      "execution_count": 39,
      "metadata": {
        "colab": {
          "base_uri": "https://localhost:8080/"
        },
        "id": "W_6Qrzz86JT-",
        "outputId": "0a456872-1be2-48b4-eb4f-663b468b9573"
      },
      "outputs": [
        {
          "output_type": "stream",
          "name": "stdout",
          "text": [
            "('USA', 'China', 'Philippine', 'India')\n",
            "('USA', 'China', 'Philippine', 'India', 'Singapore', 'Japan')\n"
          ]
        }
      ],
      "source": [
        "Country + (\"Singapore\",\"Japan\")\n",
        "print(Country)\n",
        "Country1 = Country + (\"Singapore\",\"Japan\")\n",
        "print(Country1)"
      ]
    },
    {
      "cell_type": "code",
      "execution_count": 40,
      "metadata": {
        "colab": {
          "base_uri": "https://localhost:8080/"
        },
        "id": "kRsdzN2BPCsv",
        "outputId": "b9bcc673-4045-4a6a-c1b3-7d301a61d99c"
      },
      "outputs": [
        {
          "output_type": "execute_result",
          "data": {
            "text/plain": [
              "1"
            ]
          },
          "metadata": {},
          "execution_count": 40
        }
      ],
      "source": [
        "Country1.count('China')"
      ]
    },
    {
      "cell_type": "code",
      "execution_count": 41,
      "metadata": {
        "colab": {
          "base_uri": "https://localhost:8080/"
        },
        "id": "AdnNhfK1P5Dr",
        "outputId": "537af75a-b395-4887-e884-a699a63e3a56"
      },
      "outputs": [
        {
          "output_type": "stream",
          "name": "stdout",
          "text": [
            "2\n"
          ]
        }
      ],
      "source": [
        "ex1 = ('a','p','y','t','h','o','n','a','y')\n",
        "print(ex1.count('a'))"
      ]
    },
    {
      "cell_type": "code",
      "execution_count": 42,
      "metadata": {
        "colab": {
          "base_uri": "https://localhost:8080/"
        },
        "id": "cMfcFaHgQXxp",
        "outputId": "e321ecde-70a2-45a4-9f5e-11474f9c69aa"
      },
      "outputs": [
        {
          "output_type": "stream",
          "name": "stdout",
          "text": [
            "2\n"
          ]
        }
      ],
      "source": [
        "print(ex1.index('y'))"
      ]
    },
    {
      "cell_type": "code",
      "execution_count": 43,
      "metadata": {
        "colab": {
          "base_uri": "https://localhost:8080/"
        },
        "id": "6Ek4HcHPQinS",
        "outputId": "516832ba-2313-465b-e564-7019093d684b"
      },
      "outputs": [
        {
          "output_type": "stream",
          "name": "stdout",
          "text": [
            "False\n"
          ]
        }
      ],
      "source": [
        "# to check an item available in tuple or not\n",
        "print(\"Australia\" in Country1)"
      ]
    },
    {
      "cell_type": "code",
      "execution_count": 44,
      "metadata": {
        "colab": {
          "base_uri": "https://localhost:8080/"
        },
        "id": "L14z5sKtSNC7",
        "outputId": "2058a4ea-cf16-4c33-f14f-c60d708baa95"
      },
      "outputs": [
        {
          "output_type": "stream",
          "name": "stdout",
          "text": [
            "True\n"
          ]
        }
      ],
      "source": [
        "print(\"Singapore\" in Country1)"
      ]
    },
    {
      "cell_type": "code",
      "execution_count": 45,
      "metadata": {
        "id": "kLfHSVK8TH2r"
      },
      "outputs": [],
      "source": [
        "del Country1"
      ]
    },
    {
      "cell_type": "code",
      "execution_count": 46,
      "metadata": {
        "colab": {
          "base_uri": "https://localhost:8080/",
          "height": 175
        },
        "id": "V-zthevqU4pl",
        "outputId": "536f3680-5dc0-462b-f485-f0eee685adbc"
      },
      "outputs": [
        {
          "output_type": "error",
          "ename": "NameError",
          "evalue": "ignored",
          "traceback": [
            "\u001b[0;31m---------------------------------------------------------------------------\u001b[0m",
            "\u001b[0;31mNameError\u001b[0m                                 Traceback (most recent call last)",
            "\u001b[0;32m<ipython-input-46-c3311df01292>\u001b[0m in \u001b[0;36m<cell line: 1>\u001b[0;34m()\u001b[0m\n\u001b[0;32m----> 1\u001b[0;31m \u001b[0mprint\u001b[0m\u001b[0;34m(\u001b[0m\u001b[0mCountry1\u001b[0m\u001b[0;34m)\u001b[0m\u001b[0;34m\u001b[0m\u001b[0;34m\u001b[0m\u001b[0m\n\u001b[0m",
            "\u001b[0;31mNameError\u001b[0m: name 'Country1' is not defined"
          ]
        }
      ],
      "source": [
        "print(Country1)"
      ]
    },
    {
      "cell_type": "code",
      "execution_count": 46,
      "metadata": {
        "id": "LhrwhyB-U7fP"
      },
      "outputs": [],
      "source": []
    },
    {
      "cell_type": "markdown",
      "metadata": {
        "id": "66jlT40TU_U3"
      },
      "source": [
        "## 3. Sets"
      ]
    },
    {
      "cell_type": "code",
      "execution_count": 47,
      "metadata": {
        "id": "MbFO7wx1VJ0G"
      },
      "outputs": [],
      "source": [
        "# Sets - collection of items which are not in order\n",
        "# but we cannot change the items in set but we can the add or remove\n",
        "# Elements cannot be duplicated\n",
        "# also there is no indexing or slicing\n",
        "# useig {}, Union, Intersections, difference"
      ]
    },
    {
      "cell_type": "code",
      "execution_count": 48,
      "metadata": {
        "colab": {
          "base_uri": "https://localhost:8080/"
        },
        "id": "02c4dL0uXisL",
        "outputId": "c1cbdb6e-04c6-482b-cb54-d047cfddbfe7"
      },
      "outputs": [
        {
          "output_type": "stream",
          "name": "stdout",
          "text": [
            "[['Mary', 101, 26], ['Alex', 102, 27]]\n"
          ]
        }
      ],
      "source": [
        "temp = [['Mary',101,26],\n",
        "        ['Alex',102,27]]\n",
        "print(temp)"
      ]
    },
    {
      "cell_type": "code",
      "execution_count": 49,
      "metadata": {
        "colab": {
          "base_uri": "https://localhost:8080/"
        },
        "id": "yVmA1me7YDgh",
        "outputId": "8803c039-2046-496e-a799-adaaece2b8e4"
      },
      "outputs": [
        {
          "output_type": "stream",
          "name": "stdout",
          "text": [
            "{'China', 'India', 'Japan', 'Philippine', 'USA', 'Singapore'}\n",
            "<class 'set'>\n"
          ]
        }
      ],
      "source": [
        "countries = {'USA', 'China', 'Philippine', 'India', 'Singapore', 'Japan'}\n",
        "print(countries)\n",
        "print(type(countries))"
      ]
    },
    {
      "cell_type": "code",
      "execution_count": 50,
      "metadata": {
        "colab": {
          "base_uri": "https://localhost:8080/"
        },
        "id": "XXD_T2q4YmBj",
        "outputId": "1d87dc60-30db-4e7e-a4ed-cac982c8b8b1"
      },
      "outputs": [
        {
          "output_type": "stream",
          "name": "stdout",
          "text": [
            "6\n"
          ]
        }
      ],
      "source": [
        "print(len(countries))"
      ]
    },
    {
      "cell_type": "code",
      "execution_count": 51,
      "metadata": {
        "colab": {
          "base_uri": "https://localhost:8080/"
        },
        "id": "DiAaWRmlR1j7",
        "outputId": "50cacd3d-0cd6-42cf-fe4a-dcb7968f00e1"
      },
      "outputs": [
        {
          "output_type": "stream",
          "name": "stdout",
          "text": [
            "{'China', 'India', 'Germany', 'Japan', 'Philippine', 'USA', 'Singapore'}\n"
          ]
        }
      ],
      "source": [
        "# adding an element\n",
        "countries.add(\"Germany\")\n",
        "print(countries)"
      ]
    },
    {
      "cell_type": "code",
      "execution_count": 52,
      "metadata": {
        "colab": {
          "base_uri": "https://localhost:8080/"
        },
        "id": "Hu5rsg58SOSg",
        "outputId": "d509dd1b-8d8c-4a5d-bfab-af4c27fb4ed8"
      },
      "outputs": [
        {
          "output_type": "stream",
          "name": "stdout",
          "text": [
            "{'China', 'India', 'Japan', 'Philippine', 'USA', 'Singapore'}\n"
          ]
        }
      ],
      "source": [
        "#deleting the element\n",
        "countries.discard(\"Germany\")\n",
        "print(countries)"
      ]
    },
    {
      "cell_type": "code",
      "execution_count": 53,
      "metadata": {
        "colab": {
          "base_uri": "https://localhost:8080/"
        },
        "id": "vgpb61sQSvy7",
        "outputId": "3274e0cc-1363-4b79-8842-db8bc6b4730a"
      },
      "outputs": [
        {
          "output_type": "stream",
          "name": "stdout",
          "text": [
            "{'Germany', 'Japan', 'USA', 'Singapore', 'India', 'Indonesia', 'Philippine', 'China'}\n"
          ]
        }
      ],
      "source": [
        "# Other Sets Operations\n",
        "country_1 = {'USA', 'China', 'India', 'Japan', 'Singapore', 'Philippine'}\n",
        "country_2 = {\"India\",'Singapore','Germany','Indonesia'}\n",
        "Setof_Country= country_1.union(country_2)\n",
        "print(Setof_Country)"
      ]
    },
    {
      "cell_type": "code",
      "execution_count": 54,
      "metadata": {
        "colab": {
          "base_uri": "https://localhost:8080/"
        },
        "id": "wTHy3meVT-L_",
        "outputId": "cbd0eb38-c80c-4975-e25c-64fd8a025e6d"
      },
      "outputs": [
        {
          "output_type": "stream",
          "name": "stdout",
          "text": [
            "{'Germany', 'Japan', 'USA', 'Singapore', 'India', 'Indonesia', 'Philippine', 'China'}\n"
          ]
        }
      ],
      "source": [
        "print(country_1 | country_2)"
      ]
    },
    {
      "cell_type": "code",
      "execution_count": 55,
      "metadata": {
        "colab": {
          "base_uri": "https://localhost:8080/"
        },
        "id": "jL3lMmUsVA3r",
        "outputId": "97e9493c-d307-42a8-f720-7ec66958c7f9"
      },
      "outputs": [
        {
          "output_type": "stream",
          "name": "stdout",
          "text": [
            "{'India', 'Singapore'}\n"
          ]
        }
      ],
      "source": [
        "# intersection\n",
        "print(country_1.intersection(country_2))"
      ]
    },
    {
      "cell_type": "code",
      "execution_count": 56,
      "metadata": {
        "colab": {
          "base_uri": "https://localhost:8080/"
        },
        "id": "8IBXpDY1VjRQ",
        "outputId": "ed47bb88-4936-4411-c247-42e4ceeb67e6"
      },
      "outputs": [
        {
          "output_type": "stream",
          "name": "stdout",
          "text": [
            "{'India', 'Singapore'}\n"
          ]
        }
      ],
      "source": [
        "print(country_1 & country_2)"
      ]
    },
    {
      "cell_type": "code",
      "execution_count": 57,
      "metadata": {
        "colab": {
          "base_uri": "https://localhost:8080/"
        },
        "id": "_4uumkXxamCc",
        "outputId": "cb20366c-3dd2-474c-c32a-a3ba30509618"
      },
      "outputs": [
        {
          "output_type": "stream",
          "name": "stdout",
          "text": [
            "{'Indonesia', 'Germany'}\n",
            "{'Japan', 'China', 'USA', 'Philippine'}\n"
          ]
        }
      ],
      "source": [
        "print(country_2.difference(country_1))\n",
        "print(country_1.difference(country_2))"
      ]
    },
    {
      "cell_type": "code",
      "execution_count": 58,
      "metadata": {
        "colab": {
          "base_uri": "https://localhost:8080/"
        },
        "id": "rxAykxqTbmzt",
        "outputId": "809b0147-22ce-4c40-fef8-5377b8c8de69"
      },
      "outputs": [
        {
          "output_type": "stream",
          "name": "stdout",
          "text": [
            "False\n"
          ]
        }
      ],
      "source": [
        "set_ex = {11,22,67,54}\n",
        "output_set = 78 in set_ex\n",
        "print(output_set)"
      ]
    },
    {
      "cell_type": "code",
      "execution_count": 59,
      "metadata": {
        "colab": {
          "base_uri": "https://localhost:8080/"
        },
        "id": "2UBDksYkc03N",
        "outputId": "65f7814d-c897-4a81-f23e-33dd33757a8d"
      },
      "outputs": [
        {
          "output_type": "stream",
          "name": "stdout",
          "text": [
            "True\n"
          ]
        }
      ],
      "source": [
        "output_set = 78 not in set_ex\n",
        "print(output_set)"
      ]
    },
    {
      "cell_type": "code",
      "execution_count": 60,
      "metadata": {
        "colab": {
          "base_uri": "https://localhost:8080/"
        },
        "id": "8DoB5nHqdKQ8",
        "outputId": "667f8aca-41ca-4b12-d204-3acf15a3243a"
      },
      "outputs": [
        {
          "output_type": "stream",
          "name": "stdout",
          "text": [
            "{'India', 'Germany', 'Indonesia', 'Malaysia', 'Africa', 'Singapore'}\n"
          ]
        }
      ],
      "source": [
        "# Upfating the set\n",
        "country_2 = {\"India\",'Singapore','Germany','Indonesia'}\n",
        "update_set = {'Africa','Malaysia','India'}\n",
        "country_2.update(update_set)\n",
        "print(country_2)"
      ]
    },
    {
      "cell_type": "code",
      "execution_count": 61,
      "metadata": {
        "colab": {
          "base_uri": "https://localhost:8080/"
        },
        "id": "Qvo8JH28ecDH",
        "outputId": "26230bd9-f371-4904-d28f-1c712bee2e86"
      },
      "outputs": [
        {
          "output_type": "stream",
          "name": "stdout",
          "text": [
            "set()\n"
          ]
        }
      ],
      "source": [
        "country_2.clear()\n",
        "print(country_2)"
      ]
    },
    {
      "cell_type": "markdown",
      "metadata": {
        "id": "Ln0WIGkERrMy"
      },
      "source": [
        "## 4) Dictionary"
      ]
    },
    {
      "cell_type": "code",
      "execution_count": 62,
      "metadata": {
        "id": "bxUZclTORxBj"
      },
      "outputs": [],
      "source": [
        "# Dictionary - collection of elements, keys and values pair, key and value are separated by :.\n",
        "# it is mutable and unordered,\n",
        "# if we want to access the elements then we use key"
      ]
    },
    {
      "cell_type": "code",
      "execution_count": 63,
      "metadata": {
        "colab": {
          "base_uri": "https://localhost:8080/"
        },
        "id": "pE2SdWw3S8Bh",
        "outputId": "06bab297-834e-479b-b98a-f75b91c59957"
      },
      "outputs": [
        {
          "output_type": "stream",
          "name": "stdout",
          "text": [
            "{'Name': 'john', 'age': 25, 'Dept': 'sales'}\n"
          ]
        }
      ],
      "source": [
        "emp_dict = {'Name':'john','age':25,'Dept':'sales'}\n",
        "print(emp_dict)"
      ]
    },
    {
      "cell_type": "code",
      "execution_count": 64,
      "metadata": {
        "colab": {
          "base_uri": "https://localhost:8080/"
        },
        "id": "6xUf6VCITgRP",
        "outputId": "cee76a59-0b85-406a-c2e4-6ee768d71505"
      },
      "outputs": [
        {
          "output_type": "stream",
          "name": "stdout",
          "text": [
            "john\n"
          ]
        }
      ],
      "source": [
        "print(emp_dict['Name'])"
      ]
    },
    {
      "cell_type": "code",
      "execution_count": 66,
      "metadata": {
        "colab": {
          "base_uri": "https://localhost:8080/"
        },
        "id": "OVXf0JKVToLj",
        "outputId": "9c8c6948-ba17-48f2-c97a-0059ecd0fb00"
      },
      "outputs": [
        {
          "output_type": "stream",
          "name": "stdout",
          "text": [
            "29\n"
          ]
        }
      ],
      "source": [
        "emp_dict['age']=29\n",
        "print(emp_dict['age'])"
      ]
    },
    {
      "cell_type": "code",
      "execution_count": 65,
      "metadata": {
        "colab": {
          "base_uri": "https://localhost:8080/"
        },
        "id": "cAPGNzhHUNAa",
        "outputId": "98fcc1ea-b5b6-428e-fc87-d4ba56ea7ddb"
      },
      "outputs": [
        {
          "output_type": "stream",
          "name": "stdout",
          "text": [
            "3\n"
          ]
        }
      ],
      "source": [
        "print(len(emp_dict))"
      ]
    },
    {
      "cell_type": "code",
      "execution_count": 67,
      "metadata": {
        "colab": {
          "base_uri": "https://localhost:8080/"
        },
        "id": "mtHzq0qkUgDV",
        "outputId": "1e90c52e-8a81-40f2-b619-9d97da320fb0"
      },
      "outputs": [
        {
          "output_type": "stream",
          "name": "stdout",
          "text": [
            "dict_keys(['Name', 'age', 'Dept'])\n"
          ]
        }
      ],
      "source": [
        "key = emp_dict.keys()\n",
        "print(key)"
      ]
    },
    {
      "cell_type": "code",
      "execution_count": 68,
      "metadata": {
        "colab": {
          "base_uri": "https://localhost:8080/"
        },
        "id": "YV42QH0oU6B0",
        "outputId": "00417e92-eb9e-40b5-ce01-5280faaf552e"
      },
      "outputs": [
        {
          "output_type": "execute_result",
          "data": {
            "text/plain": [
              "{'Name': 'john', 'age': 29, 'Dept': 'sales'}"
            ]
          },
          "metadata": {},
          "execution_count": 68
        }
      ],
      "source": [
        "emp_dict"
      ]
    },
    {
      "cell_type": "code",
      "execution_count": 69,
      "metadata": {
        "colab": {
          "base_uri": "https://localhost:8080/"
        },
        "id": "Ni25434pVNUA",
        "outputId": "3fe40cec-c0a0-411c-dfa9-658c984cd365"
      },
      "outputs": [
        {
          "output_type": "stream",
          "name": "stdout",
          "text": [
            "{'Name': 'john', 'age': 25, 'Dept': 'HR'}\n"
          ]
        }
      ],
      "source": [
        "emp_dict = {'Name':'john','age':25,'Dept':'sales','Dept': 'HR'}\n",
        "print(emp_dict)"
      ]
    },
    {
      "cell_type": "code",
      "execution_count": 70,
      "metadata": {
        "colab": {
          "base_uri": "https://localhost:8080/"
        },
        "id": "RVDHdx1EVsNN",
        "outputId": "d8496d5b-e83d-43c9-ece0-e65702fc21ee"
      },
      "outputs": [
        {
          "output_type": "stream",
          "name": "stdout",
          "text": [
            "<class 'dict'>\n"
          ]
        }
      ],
      "source": [
        "print(type(emp_dict))"
      ]
    },
    {
      "cell_type": "code",
      "execution_count": 71,
      "metadata": {
        "colab": {
          "base_uri": "https://localhost:8080/"
        },
        "id": "isp-E4CwWSrY",
        "outputId": "3dfe687b-7b24-4e05-c7da-74659642300d"
      },
      "outputs": [
        {
          "output_type": "stream",
          "name": "stdout",
          "text": [
            "{'name': 'Mary', 'age': 25, 'id': 101}\n"
          ]
        }
      ],
      "source": [
        "emp = dict(name='Mary',age=25,id=101)\n",
        "print(emp)"
      ]
    },
    {
      "cell_type": "code",
      "execution_count": 72,
      "metadata": {
        "colab": {
          "base_uri": "https://localhost:8080/"
        },
        "id": "TkUb4aDlXOWZ",
        "outputId": "47295783-13b5-4c54-bd85-e540c423150e"
      },
      "outputs": [
        {
          "output_type": "stream",
          "name": "stdout",
          "text": [
            "dict_values(['Mary', 25, 101])\n",
            "dict_items([('name', 'Mary'), ('age', 25), ('id', 101)])\n",
            "\n"
          ]
        }
      ],
      "source": [
        "v = emp.values()\n",
        "print(v)\n",
        "print(emp.items())\n",
        "print()"
      ]
    },
    {
      "cell_type": "code",
      "execution_count": 73,
      "metadata": {
        "colab": {
          "base_uri": "https://localhost:8080/"
        },
        "id": "JFPJf0cFdja_",
        "outputId": "fa273506-f804-4cee-e62d-cd52851370d3"
      },
      "outputs": [
        {
          "output_type": "stream",
          "name": "stdout",
          "text": [
            "{'emp1': {'name': 'Daniel', 'year': 2018}, 'emp2': {'name': 'Jimmy', 'year': 2020}, 'emp3': {'name': 'John', 'year': 2022}}\n"
          ]
        }
      ],
      "source": [
        "# Nested Dictionary\n",
        "\n",
        "Company = {'emp1':{'name':'Daniel','year':2018},\n",
        "           'emp2':{'name':'Jimmy','year':2020},\n",
        "           'emp3':{'name':'John','year':2022}}\n",
        "print(Company)"
      ]
    },
    {
      "cell_type": "code",
      "execution_count": 74,
      "metadata": {
        "colab": {
          "base_uri": "https://localhost:8080/"
        },
        "id": "sHUSgYXyelfu",
        "outputId": "1455c9b0-07b6-42bd-e958-a91776eedfd5"
      },
      "outputs": [
        {
          "output_type": "stream",
          "name": "stdout",
          "text": [
            "{'name': 'Mary', 'id': 101}\n"
          ]
        }
      ],
      "source": [
        "del emp['age']\n",
        "print(emp)"
      ]
    },
    {
      "cell_type": "code",
      "execution_count": 76,
      "metadata": {
        "colab": {
          "base_uri": "https://localhost:8080/",
          "height": 175
        },
        "id": "kpQ9rrc3feyz",
        "outputId": "f8cca179-8f72-4462-cab9-bd0696ad0333"
      },
      "outputs": [
        {
          "output_type": "error",
          "ename": "KeyError",
          "evalue": "ignored",
          "traceback": [
            "\u001b[0;31m---------------------------------------------------------------------------\u001b[0m",
            "\u001b[0;31mKeyError\u001b[0m                                  Traceback (most recent call last)",
            "\u001b[0;32m<ipython-input-76-33b695c21e35>\u001b[0m in \u001b[0;36m<cell line: 1>\u001b[0;34m()\u001b[0m\n\u001b[0;32m----> 1\u001b[0;31m \u001b[0mprint\u001b[0m\u001b[0;34m(\u001b[0m\u001b[0memp\u001b[0m\u001b[0;34m.\u001b[0m\u001b[0mpop\u001b[0m\u001b[0;34m(\u001b[0m\u001b[0;34m'id'\u001b[0m\u001b[0;34m)\u001b[0m\u001b[0;34m)\u001b[0m\u001b[0;34m\u001b[0m\u001b[0;34m\u001b[0m\u001b[0m\n\u001b[0m",
            "\u001b[0;31mKeyError\u001b[0m: 'id'"
          ]
        }
      ],
      "source": [
        "print(emp.pop('id'))"
      ]
    },
    {
      "cell_type": "code",
      "execution_count": 75,
      "metadata": {
        "id": "nUzihm5kgC-5"
      },
      "outputs": [],
      "source": [
        "emp.clear()"
      ]
    },
    {
      "cell_type": "code",
      "execution_count": 77,
      "metadata": {
        "colab": {
          "base_uri": "https://localhost:8080/",
          "height": 193
        },
        "id": "A89fhpujgV3H",
        "outputId": "e1e2d33a-2536-40e3-ef4e-07afafba1e10"
      },
      "outputs": [
        {
          "output_type": "error",
          "ename": "NameError",
          "evalue": "ignored",
          "traceback": [
            "\u001b[0;31m---------------------------------------------------------------------------\u001b[0m",
            "\u001b[0;31mNameError\u001b[0m                                 Traceback (most recent call last)",
            "\u001b[0;32m<ipython-input-77-4d1b571b629d>\u001b[0m in \u001b[0;36m<cell line: 2>\u001b[0;34m()\u001b[0m\n\u001b[1;32m      1\u001b[0m \u001b[0;32mdel\u001b[0m \u001b[0memp\u001b[0m\u001b[0;34m\u001b[0m\u001b[0;34m\u001b[0m\u001b[0m\n\u001b[0;32m----> 2\u001b[0;31m \u001b[0mprint\u001b[0m\u001b[0;34m(\u001b[0m\u001b[0memp\u001b[0m\u001b[0;34m)\u001b[0m\u001b[0;34m\u001b[0m\u001b[0;34m\u001b[0m\u001b[0m\n\u001b[0m",
            "\u001b[0;31mNameError\u001b[0m: name 'emp' is not defined"
          ]
        }
      ],
      "source": [
        "del emp\n",
        "print(emp)"
      ]
    },
    {
      "cell_type": "code",
      "execution_count": 78,
      "metadata": {
        "colab": {
          "base_uri": "https://localhost:8080/"
        },
        "id": "_BFw-31cgeXP",
        "outputId": "3e95991e-8e17-4750-b367-4304280c69c3"
      },
      "outputs": [
        {
          "output_type": "stream",
          "name": "stdout",
          "text": [
            "Daniel\n"
          ]
        }
      ],
      "source": [
        "empName = Company['emp1']['name']\n",
        "print(empName)"
      ]
    },
    {
      "cell_type": "code",
      "execution_count": 78,
      "metadata": {
        "id": "KPjqx67vibex"
      },
      "outputs": [],
      "source": []
    }
  ],
  "metadata": {
    "colab": {
      "toc_visible": true,
      "provenance": []
    },
    "kernelspec": {
      "display_name": "Python 3",
      "name": "python3"
    },
    "language_info": {
      "name": "python"
    }
  },
  "nbformat": 4,
  "nbformat_minor": 0
}