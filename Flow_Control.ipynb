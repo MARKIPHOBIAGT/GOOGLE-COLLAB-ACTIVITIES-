{
  "nbformat": 4,
  "nbformat_minor": 0,
  "metadata": {
    "colab": {
      "provenance": []
    },
    "kernelspec": {
      "name": "python3",
      "display_name": "Python 3"
    },
    "language_info": {
      "name": "python"
    }
  },
  "cells": [
    {
      "cell_type": "markdown",
      "source": [
        "# **Conditional Statement**"
      ],
      "metadata": {
        "id": "ozGFXtWhxIIO"
      }
    },
    {
      "cell_type": "markdown",
      "source": [
        "Conditional Statements:\n",
        "\n",
        "* If Statement\n",
        "* If else\n",
        "* Nested If\n"
      ],
      "metadata": {
        "id": "9VsU7iHcx6Fl"
      }
    },
    {
      "cell_type": "code",
      "source": [
        "# If Statement\n",
        "# if condition:\n",
        "  #block of code\n",
        "\n",
        "emp = 101\n",
        "if emp > 100:\n",
        "  print(\"emp belongs to sales dept\")"
      ],
      "metadata": {
        "colab": {
          "base_uri": "https://localhost:8080/"
        },
        "id": "ndvoPz9LyZ1Y",
        "outputId": "f588e2ad-97a7-496b-a0a2-fcf4aee4cadf"
      },
      "execution_count": 1,
      "outputs": [
        {
          "output_type": "stream",
          "name": "stdout",
          "text": [
            "emp belongs to sales dept\n"
          ]
        }
      ]
    },
    {
      "cell_type": "code",
      "source": [
        "employee =30000\n",
        "if employee < 40000:\n",
        "  print(\"employee belongs to grade B\")"
      ],
      "metadata": {
        "colab": {
          "base_uri": "https://localhost:8080/"
        },
        "id": "-CSPofWDyqRx",
        "outputId": "9727255e-2942-4910-a34c-e74810ab9f16"
      },
      "execution_count": 2,
      "outputs": [
        {
          "output_type": "stream",
          "name": "stdout",
          "text": [
            "employee belongs to grade B\n"
          ]
        }
      ]
    },
    {
      "cell_type": "code",
      "source": [
        "#Emp belongs to id 101 takes leave on Monday\n",
        "Emp = 101\n",
        "if Emp == 101:\n",
        "  print(\"employee belongs to id 101 takes leave on Monday\")"
      ],
      "metadata": {
        "colab": {
          "base_uri": "https://localhost:8080/"
        },
        "id": "vccBQzd1ysjE",
        "outputId": "98bd649b-30ce-465b-8258-256a1a9e54b9"
      },
      "execution_count": 3,
      "outputs": [
        {
          "output_type": "stream",
          "name": "stdout",
          "text": [
            "employee belongs to id 101 takes leave on Monday\n"
          ]
        }
      ]
    },
    {
      "cell_type": "code",
      "source": [
        "Emp = 101\n",
        "if Emp <101:\n",
        "  print(\"employee belongs to id 101 takes leave on Monday\")"
      ],
      "metadata": {
        "id": "c7zQw15yy18F"
      },
      "execution_count": 4,
      "outputs": []
    },
    {
      "cell_type": "code",
      "source": [
        "# if else statement\n",
        "# if <expression>:\n",
        "  #<condition>\n",
        "#else:\n",
        "  #<statement>\n",
        "\n",
        "branch = \"sales\"\n",
        "if branch == \"HR\":\n",
        "  print(\"Employee is from different dept\")\n",
        "else:\n",
        "  print(\"Employee belongs to same dept\")"
      ],
      "metadata": {
        "colab": {
          "base_uri": "https://localhost:8080/"
        },
        "id": "5uLV8NlIy9mC",
        "outputId": "ba62344c-a6ce-4c32-b5ab-78e5645f2601"
      },
      "execution_count": 5,
      "outputs": [
        {
          "output_type": "stream",
          "name": "stdout",
          "text": [
            "Employee belongs to same dept\n"
          ]
        }
      ]
    },
    {
      "cell_type": "code",
      "source": [
        "# age = 30 then consider as senior or consider as a fresher\n",
        "age = 30\n",
        "\n",
        "if age == 30:\n",
        "  print(\"Senior\")\n",
        "else:\n",
        "  print(\"Fresher\")"
      ],
      "metadata": {
        "colab": {
          "base_uri": "https://localhost:8080/"
        },
        "id": "5uPgFsZkzDk5",
        "outputId": "540db78b-b6d8-449c-8d71-41bdadcb555f"
      },
      "execution_count": 6,
      "outputs": [
        {
          "output_type": "stream",
          "name": "stdout",
          "text": [
            "Senior\n"
          ]
        }
      ]
    },
    {
      "cell_type": "code",
      "source": [
        "# if-elif\n",
        "color = \"White\"\n",
        "if color == \"Red\":\n",
        "  print(\"color is Red\")\n",
        "elif color == \"Blue\":\n",
        "  print(\"color is Blue\")\n",
        "elif color == \"Black\":\n",
        "  print(\"color is Black\")\n",
        "else:\n",
        "  print(\"color is not present\")"
      ],
      "metadata": {
        "colab": {
          "base_uri": "https://localhost:8080/"
        },
        "id": "TX7iTQFlzIMR",
        "outputId": "fac8b87c-ae1a-40cc-cd4c-7173c58d4ccb"
      },
      "execution_count": 7,
      "outputs": [
        {
          "output_type": "stream",
          "name": "stdout",
          "text": [
            "color is not present\n"
          ]
        }
      ]
    },
    {
      "cell_type": "code",
      "source": [
        "# for loop\n",
        "\n",
        "names = [\"John\",\"Maria\",\"Daniel\"]\n",
        "for name in names:\n",
        "  print(name)\n",
        "  if name == \"Maria\":\n",
        "    break"
      ],
      "metadata": {
        "colab": {
          "base_uri": "https://localhost:8080/"
        },
        "id": "O08PYXnlzQSC",
        "outputId": "d5972f0f-e65e-43bf-90cf-10c387622125"
      },
      "execution_count": 8,
      "outputs": [
        {
          "output_type": "stream",
          "name": "stdout",
          "text": [
            "John\n",
            "Maria\n"
          ]
        }
      ]
    },
    {
      "cell_type": "code",
      "source": [
        "names = [\"John\",\"Maria\",\"Daniel\"]\n",
        "for name in names:\n",
        "  if name == \"Maria\":\n",
        "    continue\n",
        "  print(names)"
      ],
      "metadata": {
        "colab": {
          "base_uri": "https://localhost:8080/"
        },
        "id": "96-jau1izW4P",
        "outputId": "f4ee0bd7-cff5-4970-fc0b-bdea5ef471c4"
      },
      "execution_count": 9,
      "outputs": [
        {
          "output_type": "stream",
          "name": "stdout",
          "text": [
            "['John', 'Maria', 'Daniel']\n",
            "['John', 'Maria', 'Daniel']\n"
          ]
        }
      ]
    },
    {
      "cell_type": "code",
      "source": [],
      "metadata": {
        "id": "pAd41bzQzbiv"
      },
      "execution_count": 9,
      "outputs": []
    }
  ]
}